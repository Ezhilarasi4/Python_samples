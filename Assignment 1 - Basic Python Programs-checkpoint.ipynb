{
 "cells": [
  {
   "cell_type": "markdown",
   "id": "fd8a397e",
   "metadata": {
    "id": "fd8a397e"
   },
   "source": [
    "# Assessment - 1 Gradable\n",
    "\n",
    "- Each question carries 2 marks\n",
    "- Marks will be assigned in terms of:\n",
    "    \n",
    "    **1. Expected output**\n",
    "    \n",
    "    **2. Quality and Explainability of code**\n",
    "\n",
    "    ***Go back through the script and type a comment above each line explaining in English what it does.***\n",
    "\n",
    "    **3. Copied code, if found, will result in 0 marks for that question. To avoid this make as much comments in the code to explain the approach**"
   ]
  },
  {
   "cell_type": "markdown",
   "id": "b71e4d6e",
   "metadata": {
    "id": "b71e4d6e"
   },
   "source": [
    "### 1.\n",
    "\n",
    "Write a program to Find the Factorial of a given input Number"
   ]
  },
  {
   "cell_type": "code",
   "execution_count": 5,
   "id": "5fdfd2dd",
   "metadata": {
    "id": "5fdfd2dd"
   },
   "outputs": [
    {
     "name": "stdout",
     "output_type": "stream",
     "text": [
      "Enter the Number : 34\n",
      "Factors for the number:  34\n",
      "1\n",
      "2\n",
      "17\n",
      "34\n"
     ]
    }
   ],
   "source": [
    "x = int(input(\"Enter the Number : \")) #x is an input variable\n",
    "print(\"Factors for the number: \",x)\n",
    "for i in range(1,x+1):                #iterating the loop from 1 to val +1\n",
    "    if (x%i==0):                      #checking for reminder\n",
    "        print(i)                      # if condition true then print the factor of val"
   ]
  },
  {
   "cell_type": "markdown",
   "id": "19219461",
   "metadata": {
    "id": "19219461"
   },
   "source": [
    "### 2. \n",
    "\n",
    "Write a program to check if the given year is a Leap Year or not\n",
    " 1. assiging the input variable year\n",
    " 2.check whether the input variable is greater than 0 and divisible by 4"
   ]
  },
  {
   "cell_type": "code",
   "execution_count": null,
   "id": "7c2bb4e8",
   "metadata": {
    "id": "ea1f3f35"
   },
   "outputs": [],
   "source": [
    "year = int(input(\"Enter the Year: \")) #year is an input variable\n",
    "if year>0 and year%4==0:              #year should greater than 0 and reminder should be 0 while divisible by4\n",
    "    print(\"The given year \",year,\" is leap year\")\n",
    "else:\n",
    "    print(\"The given year \",year,\" is not a leap year\")"
   ]
  },
  {
   "cell_type": "markdown",
   "id": "58bb969b",
   "metadata": {
    "id": "58bb969b"
   },
   "source": [
    "### 3.\n",
    "\n",
    "Write a program to convert from Celsius To Fahrenheit\n",
    " \n",
    " 1.formula to change the celsius to fahrenheit: f = c * (9/5) + 32\n",
    " \n",
    " 2.assign the input variable and apply the formula to the result\n"
   ]
  },
  {
   "cell_type": "code",
   "execution_count": 14,
   "id": "d09b33c6",
   "metadata": {
    "id": "d09b33c6"
   },
   "outputs": [
    {
     "name": "stdout",
     "output_type": "stream",
     "text": [
      "Enter the celsius value : 34\n",
      "The Fahrenheit of  34 c :  93.2\n"
     ]
    }
   ],
   "source": [
    "celsius = int(input(\"Enter the celsius value : \"))\n",
    "fah = celsius *(9/5)+32\n",
    "print(\"The Fahrenheit of \",celsius,\"c : \",fah)"
   ]
  },
  {
   "cell_type": "markdown",
   "id": "8658a415",
   "metadata": {
    "id": "8658a415"
   },
   "source": [
    "### 4.\n",
    "\n",
    "Write a program to check if the given number is a palindrome number.\n",
    "\n",
    "A palindrome number is a number that is same after reverse. For example, 121 is a palindrome number."
   ]
  },
  {
   "cell_type": "code",
   "execution_count": 51,
   "id": "a0974be7",
   "metadata": {
    "id": "a0974be7"
   },
   "outputs": [
    {
     "name": "stdout",
     "output_type": "stream",
     "text": [
      "Enter the Number: 434\n",
      "434 : Entered number is palindrome \n"
     ]
    }
   ],
   "source": [
    "val = int(input(\"Enter the Number: \")) #getting input\n",
    "temp = val       \n",
    "x = 0\n",
    "while temp != 0:         # looping the given input and reversing the value \n",
    "    x = ( x * 10 ) + ( temp % 10 )\n",
    "    temp = temp // 10\n",
    "    \n",
    "if val == x: #comparing the input and reversed value\n",
    "    print( val, \": Entered number is palindrome \" )\n",
    "else:\n",
    "    print( val, \": Entered number is not palindrome \" )\n",
    "\n",
    "\n",
    "    \n"
   ]
  },
  {
   "cell_type": "markdown",
   "id": "0b487dc1",
   "metadata": {
    "id": "0b487dc1"
   },
   "source": [
    "### 5. \n",
    "\n",
    "Write a program to Generate a Random Number from 1 to 100 and check if it's even or odd number"
   ]
  },
  {
   "cell_type": "code",
   "execution_count": null,
   "id": "32d2205e",
   "metadata": {
    "id": "32d2205e"
   },
   "outputs": [],
   "source": [
    "for i in range(1,101,1): #print number 1 to 100 with increament of 1\n",
    "    print(i)\n",
    "       \n",
    "    \n",
    "x=int(input(\"Enter the any number from the list : \"))\n",
    "if x%2==0: # Condition to check whether even or odd\n",
    "    print(x, \" Entered number is even\")\n",
    "else:\n",
    "    print(x,\" Entered number is odd\")"
   ]
  },
  {
   "cell_type": "code",
   "execution_count": null,
   "id": "57ce8be3",
   "metadata": {},
   "outputs": [],
   "source": []
  },
  {
   "cell_type": "code",
   "execution_count": null,
   "id": "e4d1b64f",
   "metadata": {},
   "outputs": [],
   "source": []
  }
 ],
 "metadata": {
  "colab": {
   "provenance": []
  },
  "kernelspec": {
   "display_name": "Python 3 (ipykernel)",
   "language": "python",
   "name": "python3"
  },
  "language_info": {
   "codemirror_mode": {
    "name": "ipython",
    "version": 3
   },
   "file_extension": ".py",
   "mimetype": "text/x-python",
   "name": "python",
   "nbconvert_exporter": "python",
   "pygments_lexer": "ipython3",
   "version": "3.9.13"
  }
 },
 "nbformat": 4,
 "nbformat_minor": 5
}
