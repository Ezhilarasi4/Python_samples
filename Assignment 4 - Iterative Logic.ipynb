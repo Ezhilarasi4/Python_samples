{
 "cells": [
  {
   "cell_type": "markdown",
   "id": "9acd52dd",
   "metadata": {
    "id": "9acd52dd"
   },
   "source": [
    "# Assessment - 4 Gradable\n",
    "\n",
    "- Each question carries 5 marks\n",
    "- Marks will be assigned in terms of:\n",
    "    \n",
    "    **1. Expected output**\n",
    "    \n",
    "    **2. Quality and Explainability of code**\n",
    "\n",
    "    ***Go back through the script and type a comment above each line explaining in English what it does.***\n",
    "\n",
    "    **3. Copied code, if found, will result in 0 marks for that question. To avoid this make as much comments in the code to explain the approach**"
   ]
  },
  {
   "cell_type": "markdown",
   "id": "1dd6b730",
   "metadata": {
    "id": "1dd6b730"
   },
   "source": [
    "### 1. \n",
    "\n",
    "Write a function ``clap_tap`` that prints the integers from 1 to 100. But for multiples of three print \"Clap\" instead of the number, and for the multiples of five print \"Tap\". For numbers which are multiples of both three and five print \"ClapTap\"."
   ]
  },
  {
   "cell_type": "code",
   "execution_count": 65,
   "id": "04ae6248",
   "metadata": {
    "id": "04ae6248"
   },
   "outputs": [],
   "source": [
    "def clap_tap():\n",
    "    for i in range(1,101): # iteration from 1 to 101\n",
    "        if i % 15 == 0: # condition to check multiples of 15\n",
    "            print(i,\"ClapTap\")\n",
    "        elif i % 3 == 0: # condition to check multiples of 3\n",
    "            print(i,\"Clap\")\n",
    "        elif i % 5 == 0: # condition to check multiples of 5\n",
    "            print(i,\"Tap\")\n",
    "        \n",
    "        \n",
    "    "
   ]
  },
  {
   "cell_type": "code",
   "execution_count": 66,
   "id": "e8200ab7",
   "metadata": {},
   "outputs": [
    {
     "name": "stdout",
     "output_type": "stream",
     "text": [
      "3 Clap\n",
      "5 Tap\n",
      "6 Clap\n",
      "9 Clap\n",
      "10 Tap\n",
      "12 Clap\n",
      "15 ClapTap\n",
      "18 Clap\n",
      "20 Tap\n",
      "21 Clap\n",
      "24 Clap\n",
      "25 Tap\n",
      "27 Clap\n",
      "30 ClapTap\n",
      "33 Clap\n",
      "35 Tap\n",
      "36 Clap\n",
      "39 Clap\n",
      "40 Tap\n",
      "42 Clap\n",
      "45 ClapTap\n",
      "48 Clap\n",
      "50 Tap\n",
      "51 Clap\n",
      "54 Clap\n",
      "55 Tap\n",
      "57 Clap\n",
      "60 ClapTap\n",
      "63 Clap\n",
      "65 Tap\n",
      "66 Clap\n",
      "69 Clap\n",
      "70 Tap\n",
      "72 Clap\n",
      "75 ClapTap\n",
      "78 Clap\n",
      "80 Tap\n",
      "81 Clap\n",
      "84 Clap\n",
      "85 Tap\n",
      "87 Clap\n",
      "90 ClapTap\n",
      "93 Clap\n",
      "95 Tap\n",
      "96 Clap\n",
      "99 Clap\n",
      "100 Tap\n"
     ]
    }
   ],
   "source": [
    "clap_tap()"
   ]
  },
  {
   "cell_type": "markdown",
   "id": "ffc26930",
   "metadata": {
    "id": "ffc26930"
   },
   "source": [
    "### 2. \n",
    "\n",
    "ANIMAL CRACKERS: Write a function takes a two-word string and returns True if both words begin with same letter and returns False if both words begin with different letter\n",
    "- animal_crackers('Levelheaded Lion') --> True\n",
    "- animal_crackers('Cute Kangaroo') --> False"
   ]
  },
  {
   "cell_type": "code",
   "execution_count": 49,
   "id": "dbaf2f2a",
   "metadata": {
    "id": "dbaf2f2a"
   },
   "outputs": [],
   "source": [
    "def animal_crackers(str):\n",
    "    \n",
    "    if len(str.split(\" \")) > 1: # checking condition to number of words\n",
    "        str1 = str.split(\" \")[0]\n",
    "        str2 = str.split(\" \")[1]\n",
    "        if str1[0] == str2[0]: # Checking first letter of two words\n",
    "            return(True)\n",
    "        else:\n",
    "            return(False)\n",
    "\n",
    "    else:\n",
    "        print(\" Enter more than one word to compare\")\n",
    "     "
   ]
  },
  {
   "cell_type": "code",
   "execution_count": 67,
   "id": "2614e5bf",
   "metadata": {},
   "outputs": [
    {
     "data": {
      "text/plain": [
       "True"
      ]
     },
     "execution_count": 67,
     "metadata": {},
     "output_type": "execute_result"
    }
   ],
   "source": [
    "animal_crackers(\"Levelheaded Lion\")"
   ]
  },
  {
   "cell_type": "code",
   "execution_count": 99,
   "id": "34072cee",
   "metadata": {},
   "outputs": [
    {
     "data": {
      "text/plain": [
       "False"
      ]
     },
     "execution_count": 99,
     "metadata": {},
     "output_type": "execute_result"
    }
   ],
   "source": [
    "animal_crackers(\"Cute Kangaroo\")"
   ]
  },
  {
   "cell_type": "code",
   "execution_count": 98,
   "id": "2ada684c",
   "metadata": {},
   "outputs": [
    {
     "name": "stdout",
     "output_type": "stream",
     "text": [
      " Enter more than one word to compare\n"
     ]
    }
   ],
   "source": [
    "animal_crackers(\"eznd\")"
   ]
  },
  {
   "cell_type": "markdown",
   "id": "eec7fc6c",
   "metadata": {
    "id": "eec7fc6c"
   },
   "source": [
    "### 3. \n",
    "\n",
    "Create a function ``shout_out`` Given a string, return a string where:\n",
    "#### for every character in the original there are three characters\n",
    "\n",
    "    - shout_out('character') --> 'ccchhhaaarrraaacccttteeerrr'\n",
    "    - shout_out('original') --> 'ooorrriiigggiiinnnaaalll'"
   ]
  },
  {
   "cell_type": "code",
   "execution_count": 103,
   "id": "4de40729",
   "metadata": {
    "id": "4de40729"
   },
   "outputs": [],
   "source": [
    "def shout_out(string2):\n",
    "    str2 = \"\"\n",
    "    for i in range(0, len(string2)):  # iteration for the length of string\n",
    "        str2 += string2[i]*3 # Mulitipling of character and collecting\n",
    "    print(str2)\n",
    "    "
   ]
  },
  {
   "cell_type": "code",
   "execution_count": 104,
   "id": "e1e8ea3d",
   "metadata": {},
   "outputs": [
    {
     "name": "stdout",
     "output_type": "stream",
     "text": [
      "ccchhhaaarrraaacccttteeerrr\n"
     ]
    }
   ],
   "source": [
    "shout_out('character')"
   ]
  },
  {
   "cell_type": "code",
   "execution_count": 102,
   "id": "0713bbd7",
   "metadata": {},
   "outputs": [
    {
     "name": "stdout",
     "output_type": "stream",
     "text": [
      "ooorrriiigggiiinnnaaalll\n"
     ]
    }
   ],
   "source": [
    "shout_out('original')"
   ]
  },
  {
   "cell_type": "markdown",
   "id": "6739aeef",
   "metadata": {
    "id": "6739aeef"
   },
   "source": [
    "### 4. \n",
    "\n",
    "Create a function ``ignore_6_to_9`` that returns the sum of the numbers in the array, except ignore sections of numbers starting with a 6 and extending to the next 9 (every 6 will be followed by at least one 9). Return 0 for no numbers.\n",
    " \n",
    "- ignore_6_to_9([1, 3, 5]) --> 9\n",
    "- ignore_6_to_9([4, 5, 6, 7, 8, 9]) --> 9\n",
    "- ignore_6_to_9([2, 1, 6, 9, 11]) --> 14"
   ]
  },
  {
   "cell_type": "code",
   "execution_count": 1,
   "id": "1ec4e63e",
   "metadata": {
    "id": "1ec4e63e"
   },
   "outputs": [],
   "source": [
    "def ignore_6_to_9(lst): # Fuction Defenition.\n",
    "    add=True # Flag to choose whether the current number should be added to the result or not.\n",
    "    result=0 # Initializing the result number.\n",
    "    for i in lst: # Iterating over the given list.\n",
    "        if i==6: # If the number is 6 then the flag will be changed to False.\n",
    "            add=False\n",
    "        if add: # If add is true umber will be added to the result.\n",
    "            result+=i\n",
    "        if i==9: #  If the number is 6 then the flag will be changed to True.\n",
    "            add=True\n",
    "    return result # Returning the result.\n"
   ]
  },
  {
   "cell_type": "code",
   "execution_count": 3,
   "id": "ca17cc2e",
   "metadata": {},
   "outputs": [
    {
     "data": {
      "text/plain": [
       "9"
      ]
     },
     "execution_count": 3,
     "metadata": {},
     "output_type": "execute_result"
    }
   ],
   "source": [
    "ignore_6_to_9([1,3,5])"
   ]
  },
  {
   "cell_type": "code",
   "execution_count": 4,
   "id": "93725877",
   "metadata": {},
   "outputs": [
    {
     "data": {
      "text/plain": [
       "9"
      ]
     },
     "execution_count": 4,
     "metadata": {},
     "output_type": "execute_result"
    }
   ],
   "source": [
    "ignore_6_to_9([4,5,6,7,8,9])"
   ]
  },
  {
   "cell_type": "code",
   "execution_count": 5,
   "id": "138e3f7a",
   "metadata": {},
   "outputs": [
    {
     "data": {
      "text/plain": [
       "14"
      ]
     },
     "execution_count": 5,
     "metadata": {},
     "output_type": "execute_result"
    }
   ],
   "source": [
    "ignore_6_to_9([2,1,6,3,4,9,11])"
   ]
  },
  {
   "cell_type": "markdown",
   "id": "af46e819",
   "metadata": {
    "id": "af46e819"
   },
   "source": [
    "### 5.\n",
    "\n",
    "Write a program to iterate the first 10 numbers and in each iteration, print the sum of the current and previous number.\n",
    "\n",
    "- Current Number 0 Previous Number  0  Sum:  0\n",
    "- Current Number 1 Previous Number  0  Sum:  1 and so on"
   ]
  },
  {
   "cell_type": "code",
   "execution_count": 126,
   "id": "32352d0f",
   "metadata": {},
   "outputs": [
    {
     "name": "stdout",
     "output_type": "stream",
     "text": [
      "Current number 0 Previous Number 0 Sum =  0\n",
      "Current number 1 Previous Number 0 Sum =  1\n",
      "Current number 2 Previous Number 1 Sum =  3\n",
      "Current number 3 Previous Number 2 Sum =  5\n",
      "Current number 4 Previous Number 3 Sum =  7\n",
      "Current number 5 Previous Number 4 Sum =  9\n",
      "Current number 6 Previous Number 5 Sum =  11\n",
      "Current number 7 Previous Number 6 Sum =  13\n",
      "Current number 8 Previous Number 7 Sum =  15\n",
      "Current number 9 Previous Number 8 Sum =  17\n"
     ]
    }
   ],
   "source": [
    "for i in range(10): #iteration from 1 to 10\n",
    "    if i == 0:\n",
    "        print(\"Current number\", i, \"Previous Number\", i, \"Sum = \", 0)\n",
    "    else:\n",
    "        print(\"Current number\", i, \"Previous Number\", i-1, \"Sum = \", (i*2)-1) # adding current and pervious number"
   ]
  },
  {
   "cell_type": "code",
   "execution_count": null,
   "id": "7c9c9e75",
   "metadata": {},
   "outputs": [],
   "source": []
  }
 ],
 "metadata": {
  "colab": {
   "provenance": []
  },
  "kernelspec": {
   "display_name": "Python 3 (ipykernel)",
   "language": "python",
   "name": "python3"
  },
  "language_info": {
   "codemirror_mode": {
    "name": "ipython",
    "version": 3
   },
   "file_extension": ".py",
   "mimetype": "text/x-python",
   "name": "python",
   "nbconvert_exporter": "python",
   "pygments_lexer": "ipython3",
   "version": "3.9.13"
  }
 },
 "nbformat": 4,
 "nbformat_minor": 5
}
