{
 "cells": [
  {
   "cell_type": "markdown",
   "id": "8a30d880",
   "metadata": {
    "id": "8a30d880"
   },
   "source": [
    "# Assessment - 6 Gradable\n",
    "\n",
    "- Each question carries 5 or 4 marks\n",
    "- Marks will be assigned in terms of:\n",
    "    \n",
    "    **1. Expected output**\n",
    "    \n",
    "    **2. Quality and Explainability of code**\n",
    "\n",
    "    ***Go back through the script and type a comment above each line explaining in English what it does.***\n",
    "\n",
    "    **3. Copied code, if found, will result in 0 marks for that question. To avoid this make as much comments in the code to explain the approach**"
   ]
  },
  {
   "cell_type": "markdown",
   "id": "86255064",
   "metadata": {
    "id": "86255064"
   },
   "source": [
    "### 1. \n",
    "\n",
    "Write a Program to create a class 'Company' and using the class instance and print all the writable attributes of that object such as age, gender, salary, profession and designation. We take atleast 5 employees of an organization"
   ]
  },
  {
   "cell_type": "code",
   "execution_count": 8,
   "id": "4a098962",
   "metadata": {
    "id": "4a098962"
   },
   "outputs": [],
   "source": [
    "class company():\n",
    "    age = 0\n",
    "    gender = None\n",
    "    salary = 0\n",
    "    profession = None\n",
    "    designation = None\n",
    "    \n",
    "    def print_company(self):\n",
    "        print(\"Age of the employee: \",self.age)\n",
    "        print(\"Gender of the employee: \",self.gender)\n",
    "        print(\"Salary of the employee: \",self.salary)\n",
    "        print(\"Profession of the employee: \",self.profession)\n",
    "        print(\"Designation of the employee: \",self.designation)\n",
    "        \n",
    "    def get_details(self):\n",
    "        self.age = int(input(\"Enter the age of the employee: \"))\n",
    "        self.gender = input(\"Enter the gender of the employee: \")\n",
    "        self.salary = int(input(\"Enter the salary of the employee: \"))\n",
    "        self.profession = input(\"Enter the profession of the employee: \")\n",
    "        self.designation=input(\"Enter the Designation of the employee: \")\n",
    "        "
   ]
  },
  {
   "cell_type": "code",
   "execution_count": 9,
   "id": "a7f3713b",
   "metadata": {},
   "outputs": [
    {
     "name": "stdout",
     "output_type": "stream",
     "text": [
      "Enter the age of the employee: 35\n",
      "Enter the gender of the employee: female\n",
      "Enter the salary of the employee: 200000\n",
      "Enter the profession of the employee: IT\n",
      "Enter the Designation of the employee: DS\n",
      "Age of the employee:  35\n",
      "Gender of the employee:  female\n",
      "Salary of the employee:  200000\n",
      "Profession of the employee:  IT\n",
      "Designation of the employee:  DS\n"
     ]
    }
   ],
   "source": [
    "com = company()\n",
    "com.get_details()\n",
    "com.print_company()\n"
   ]
  },
  {
   "cell_type": "code",
   "execution_count": 10,
   "id": "f4c46a29",
   "metadata": {},
   "outputs": [
    {
     "name": "stdout",
     "output_type": "stream",
     "text": [
      "Enter the age of the employee: 34\n",
      "Enter the gender of the employee: male\n",
      "Enter the salary of the employee: 250000\n",
      "Enter the profession of the employee: IT\n",
      "Enter the Designation of the employee: DS\n",
      "Age of the employee:  34\n",
      "Gender of the employee:  male\n",
      "Salary of the employee:  250000\n",
      "Profession of the employee:  IT\n",
      "Designation of the employee:  DS\n"
     ]
    }
   ],
   "source": [
    "com1 = company()\n",
    "com1.get_details()\n",
    "com1.print_company()\n"
   ]
  },
  {
   "cell_type": "code",
   "execution_count": 11,
   "id": "92228636",
   "metadata": {},
   "outputs": [
    {
     "name": "stdout",
     "output_type": "stream",
     "text": [
      "Enter the age of the employee: 45\n",
      "Enter the gender of the employee: male\n",
      "Enter the salary of the employee: 150000\n",
      "Enter the profession of the employee: IT\n",
      "Enter the Designation of the employee: DA\n",
      "Age of the employee:  45\n",
      "Gender of the employee:  male\n",
      "Salary of the employee:  150000\n",
      "Profession of the employee:  IT\n",
      "Designation of the employee:  DA\n"
     ]
    }
   ],
   "source": [
    "com2 = company()\n",
    "com2.get_details()\n",
    "com2.print_company()"
   ]
  },
  {
   "cell_type": "code",
   "execution_count": 12,
   "id": "fccf936e",
   "metadata": {},
   "outputs": [
    {
     "name": "stdout",
     "output_type": "stream",
     "text": [
      "Enter the age of the employee: 36\n",
      "Enter the gender of the employee: Male\n",
      "Enter the salary of the employee: 200000\n",
      "Enter the profession of the employee: IT\n",
      "Enter the Designation of the employee: Jun DA\n",
      "Age of the employee:  36\n",
      "Gender of the employee:  Male\n",
      "Salary of the employee:  200000\n",
      "Profession of the employee:  IT\n",
      "Designation of the employee:  Jun DA\n"
     ]
    }
   ],
   "source": [
    "com3 = company()\n",
    "com3.get_details()\n",
    "com3.print_company()"
   ]
  },
  {
   "cell_type": "code",
   "execution_count": 13,
   "id": "1755bb0a",
   "metadata": {},
   "outputs": [
    {
     "name": "stdout",
     "output_type": "stream",
     "text": [
      "Enter the age of the employee: 25\n",
      "Enter the gender of the employee: Female\n",
      "Enter the salary of the employee: 100000\n",
      "Enter the profession of the employee: IT\n",
      "Enter the Designation of the employee: DA\n",
      "Age of the employee:  25\n",
      "Gender of the employee:  Female\n",
      "Salary of the employee:  100000\n",
      "Profession of the employee:  IT\n",
      "Designation of the employee:  DA\n"
     ]
    }
   ],
   "source": [
    "com4 = company()\n",
    "com4.get_details()\n",
    "com4.print_company()"
   ]
  },
  {
   "cell_type": "markdown",
   "id": "df5c6917",
   "metadata": {
    "id": "df5c6917"
   },
   "source": [
    "### 2. \n",
    "\n",
    "Write a program to store details of 6 customers in a text file with features of Unique Customer Id, Name, Location, Phone Number, Last Purchase Date for an ecommerce website that canbe considered for future records\n"
   ]
  },
  {
   "cell_type": "code",
   "execution_count": 29,
   "id": "6aaac08a",
   "metadata": {
    "id": "6aaac08a"
   },
   "outputs": [
    {
     "name": "stdout",
     "output_type": "stream",
     "text": [
      "Enter the Customer ID: 101\n",
      "Enter the Name: Ezhil\n",
      "Enter the Location: Chennai\n",
      "Enter the Phone Number: 9847727362\n",
      "Enter the Last Purchase Date: 12dec2022\n",
      "Enter the Customer ID: 102\n",
      "Enter the Name: Baskar\n",
      "Enter the Location: Bangalore\n",
      "Enter the Phone Number: 97937675674\n",
      "Enter the Last Purchase Date: 13dec2022\n",
      "Enter the Customer ID: 103\n",
      "Enter the Name: Vaishu\n",
      "Enter the Location: Bangalore\n",
      "Enter the Phone Number: 87354562733\n",
      "Enter the Last Purchase Date: 14dec2022\n",
      "Enter the Customer ID: 104\n",
      "Enter the Name: Chennai\n",
      "Enter the Location: Yashu\n",
      "Enter the Phone Number: 9897766543\n",
      "Enter the Last Purchase Date: 14dec2022\n",
      "Enter the Customer ID: 105\n",
      "Enter the Name: Ezhilarasi\n",
      "Enter the Location: 9823872633\n",
      "Enter the Phone Number: 9083787653\n",
      "Enter the Last Purchase Date: 13dec2022\n"
     ]
    }
   ],
   "source": [
    "f = open(\"store_details.csv\",'w') # opening csv file to write\n",
    "for i in range(6): # iterating the set of value for 6 customer\n",
    "    f.write(input(\"Enter the Customer ID: \"))\n",
    "    f.write(\"\\t\")\n",
    "    f.write(input(\"Enter the Name: \"))\n",
    "    f.write(\"\\t\")\n",
    "    f.write(input(\"Enter the Location: \"))\n",
    "    f.write('\\t')\n",
    "    f.write(input(\"Enter the Phone Number: \"))\n",
    "    f.write('\\t')\n",
    "    f.write(input(\"Enter the Last Purchase Date: \"))\n",
    "    f.write(\"\\n\")\n",
    "    f.flush()\n",
    "f.close()"
   ]
  },
  {
   "cell_type": "markdown",
   "id": "51f22264",
   "metadata": {
    "id": "51f22264"
   },
   "source": [
    "### 3. \n",
    "\n",
    "Build a Simple Calculator using Exception Handling (try, except) that solves 4 arithmetic operations like Addition, Subtraction, Multiplication and Division.\n"
   ]
  },
  {
   "cell_type": "code",
   "execution_count": 23,
   "id": "5b52eb5c",
   "metadata": {
    "id": "5b52eb5c"
   },
   "outputs": [
    {
     "name": "stdout",
     "output_type": "stream",
     "text": [
      "Enter the a value: 2\n",
      "Enter the b value: 3\n",
      "Enter the arithmatic operation(+,-,*,/) : .\n",
      "Enter the Valid Operator\n"
     ]
    }
   ],
   "source": [
    "try:\n",
    "    a = int(input(\"Enter the a value: \")) # getting input 1 from user\n",
    "    b = int(input(\"Enter the b value: \")) # getting input 2 from user\n",
    "    c = input(\"Enter the arithmatic operation(+,-,*,/) : \") # getting operator from the user\n",
    "    if c == '+':  # checking for addition\n",
    "        print(\"Addition of number: \",a+b)\n",
    "    elif c == '-': # checking for subtraction\n",
    "        print(\"Subtraction of number: \",a-b)\n",
    "    elif c == '*': # checking for the multiplication\n",
    "        print(\"Multiplication of number: \",a*b)\n",
    "    elif c== '/': # checking for the division\n",
    "        print(\"Division of number: \",a/b)\n",
    "    else:\n",
    "        print(\"Enter the Valid Operator\") # else case to display invalid opreation\n",
    "except:\n",
    "    print(\"Enter the valid opertaion\")\n",
    "    "
   ]
  },
  {
   "cell_type": "code",
   "execution_count": null,
   "id": "7dee56ac",
   "metadata": {},
   "outputs": [],
   "source": []
  }
 ],
 "metadata": {
  "colab": {
   "provenance": []
  },
  "kernelspec": {
   "display_name": "Python 3 (ipykernel)",
   "language": "python",
   "name": "python3"
  },
  "language_info": {
   "codemirror_mode": {
    "name": "ipython",
    "version": 3
   },
   "file_extension": ".py",
   "mimetype": "text/x-python",
   "name": "python",
   "nbconvert_exporter": "python",
   "pygments_lexer": "ipython3",
   "version": "3.9.13"
  }
 },
 "nbformat": 4,
 "nbformat_minor": 5
}
