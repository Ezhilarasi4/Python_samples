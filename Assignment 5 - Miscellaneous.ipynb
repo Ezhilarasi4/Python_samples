{
 "cells": [
  {
   "cell_type": "markdown",
   "id": "d72f8ceb",
   "metadata": {
    "id": "d72f8ceb"
   },
   "source": [
    "# Assessment - 5 Gradable\n",
    "\n",
    "- Each question carries 5 or 4 marks\n",
    "- Marks will be assigned in terms of:\n",
    "    \n",
    "    **1. Expected output**\n",
    "    \n",
    "    **2. Quality and Explainability of code**\n",
    "\n",
    "    ***Go back through the script and type a comment above each line explaining in English what it does.***\n",
    "\n",
    "    **3. Copied code, if found, will result in 0 marks for that question. To avoid this make as much comments in the code to explain the approach**"
   ]
  },
  {
   "cell_type": "markdown",
   "id": "e5819cc0",
   "metadata": {
    "id": "e5819cc0"
   },
   "source": [
    "### 1. \n",
    "\n",
    "Write a Python function that prints out the first n rows of Pascal's triangle.\n",
    "\n",
    "- Input : 5\n",
    "- Output: \n",
    "          1\n",
    "         1 1\n",
    "        1 2 1\n",
    "       1 3 3 1\n",
    "      1 4 6 4 1\n",
    "\n",
    "**Very interesting video on PASCAL TRIANGLE (must watch if you are interested to know more about pascal Triangle)**\n",
    "- https://www.youtube.com/watch?v=0iMtlus-afo&t=668s&ab_channel=Numberphile"
   ]
  },
  {
   "cell_type": "code",
   "execution_count": 15,
   "id": "88e3b5b4",
   "metadata": {
    "id": "88e3b5b4"
   },
   "outputs": [
    {
     "name": "stdout",
     "output_type": "stream",
     "text": [
      "     1\n",
      "    1 1\n",
      "   1 2 1\n",
      "  1 3 3 1\n",
      " 1 4 6 4 1\n"
     ]
    }
   ],
   "source": [
    "n = 5\n",
    " \n",
    "for i in range(n): # iterarte upto n\n",
    "    \n",
    "    print(' '*(n-i), end='') # adjust space\n",
    "    print(' '.join(map(str, str(11**i)))) # compute power of 11"
   ]
  },
  {
   "cell_type": "markdown",
   "id": "e4c2f52f",
   "metadata": {},
   "source": [
    "### 2. \n",
    "\n",
    "Write a function to print following pattern\n",
    "\n",
    "    1  \n",
    "    2  4  \n",
    "    3  6  9  \n",
    "    4  8  12  16  \n",
    "    5  10  15  20  25  \n",
    "    6  12  18  24  30  36  \n",
    "    7  14  21  28  35  42  49  \n",
    "    8  16  24  32  40  48  56  64  "
   ]
  },
  {
   "cell_type": "code",
   "execution_count": 86,
   "id": "3da41a66",
   "metadata": {},
   "outputs": [
    {
     "name": "stdout",
     "output_type": "stream",
     "text": [
      "  1 \n",
      "  2   4 \n",
      "  3   6   9 \n",
      "  4   8   12   16 \n",
      "  5   10   15   20   25 \n",
      "  6   12   18   24   30   36 \n",
      "  7   14   21   28   35   42   49 \n",
      "  8   16   24   32   40   48   56   64 \n"
     ]
    }
   ],
   "source": [
    "\n",
    "for i in range(1,9):\n",
    "    for j in range(1,i + 1):\n",
    "        print(\" \" , j*i , end=\" \")\n",
    "         \n",
    "    print()\n",
    "       "
   ]
  },
  {
   "cell_type": "markdown",
   "id": "42453e7d",
   "metadata": {
    "id": "42453e7d"
   },
   "source": [
    "### 3. \n",
    "\n",
    "Write a function ``how_many_primes`` that returns the number of prime numbers that exist up to and including a given number\n",
    "\n",
    "- how_many_primes(100) --> 25"
   ]
  },
  {
   "cell_type": "code",
   "execution_count": 75,
   "id": "b3302ec4",
   "metadata": {
    "id": "b3302ec4"
   },
   "outputs": [],
   "source": [
    "def how_many_primes(arg):\n",
    "    k=0\n",
    "    for i in range(2,arg): # iteration1 starts\n",
    "        for j in range(2,i): # iteration2 starts\n",
    "            if ( i % j )==0: # checking for remainder\n",
    "                break\n",
    "        else:\n",
    "            k+=1\n",
    "            print(i)\n",
    "    print(\"Total number of prime numbers: \",k)"
   ]
  },
  {
   "cell_type": "code",
   "execution_count": 76,
   "id": "785b34a2",
   "metadata": {},
   "outputs": [
    {
     "name": "stdout",
     "output_type": "stream",
     "text": [
      "2\n",
      "3\n",
      "5\n",
      "7\n",
      "11\n",
      "13\n",
      "17\n",
      "19\n",
      "23\n",
      "29\n",
      "31\n",
      "37\n",
      "41\n",
      "43\n",
      "47\n",
      "53\n",
      "59\n",
      "61\n",
      "67\n",
      "71\n",
      "73\n",
      "79\n",
      "83\n",
      "89\n",
      "97\n",
      "Total number of prime numbers:  25\n"
     ]
    }
   ],
   "source": [
    "how_many_primes(100)"
   ]
  },
  {
   "cell_type": "markdown",
   "id": "2b5f6f63",
   "metadata": {
    "id": "2b5f6f63"
   },
   "source": [
    "##### 4. \n",
    "\n",
    "b = open(\"assignment.txt\")\n",
    "\n",
    "Consider the code given above and write the answers to the following :\n",
    "\n",
    "- Identify the name of the file : \n",
    "- Identify the name of the function used above : \n",
    "- What is 'b' in above code :\n",
    "- The above statement will  ____________ file in ___________ mode."
   ]
  },
  {
   "cell_type": "code",
   "execution_count": null,
   "id": "6eaaca86",
   "metadata": {},
   "outputs": [],
   "source": [
    "Identify the name of the file : \"assignment.txt\"\n",
    "- Identify the name of the function used above : \"open file function\"\n",
    "- What is 'b' in above code : \"file variable to store text of the file\"\n",
    "- The above statement will  ____\"Open the text file\"________ file in __\"Read\"_________ mode."
   ]
  },
  {
   "cell_type": "markdown",
   "id": "6c9eb680",
   "metadata": {
    "id": "6c9eb680"
   },
   "source": [
    "### 5.\n",
    "\n",
    "Accept five hobbies from the user and write in a file 'hobby.txt'. Then Read the file to list out all the 5 hobbies from the user."
   ]
  },
  {
   "cell_type": "code",
   "execution_count": 32,
   "id": "1b9db22c",
   "metadata": {
    "id": "1b9db22c"
   },
   "outputs": [
    {
     "name": "stdout",
     "output_type": "stream",
     "text": [
      "Enter the hobby : cricket\n",
      "Enter the hobby : My 2 hobby is music\n",
      "Enter the hobby : my 3 hobby is drawing\n",
      "Enter the hobby : my 4 hobby is playing with kids\n",
      "Enter the hobby : my 5 hobby is video games\n"
     ]
    }
   ],
   "source": [
    "hobby = open(\"hobby.txt\",'w')\n",
    "for i in range(5):\n",
    "    hob = input(\"Enter the hobby : \")\n",
    "    hobby.write(hob)\n",
    "    hobby.write(\"\\n\")\n",
    "hobby.flush()\n",
    "hobby.close()\n",
    "\n",
    "\n",
    "    "
   ]
  },
  {
   "cell_type": "code",
   "execution_count": 33,
   "id": "d008663c",
   "metadata": {},
   "outputs": [
    {
     "name": "stdout",
     "output_type": "stream",
     "text": [
      "cricket\n",
      "My 2 hobby is music\n",
      "my 3 hobby is drawing\n",
      "my 4 hobby is playing with kids\n",
      "my 5 hobby is video games\n",
      "\n"
     ]
    }
   ],
   "source": [
    "hobby = open(\"hobby.txt\")\n",
    "hobby_content = hobby.read()\n",
    "print(hobby_content)\n",
    "hobby.tell()\n",
    "hobby.close()"
   ]
  },
  {
   "cell_type": "code",
   "execution_count": null,
   "id": "00fdab52",
   "metadata": {},
   "outputs": [],
   "source": []
  },
  {
   "cell_type": "code",
   "execution_count": null,
   "id": "ad6f7734",
   "metadata": {},
   "outputs": [],
   "source": []
  }
 ],
 "metadata": {
  "colab": {
   "provenance": []
  },
  "kernelspec": {
   "display_name": "Python 3 (ipykernel)",
   "language": "python",
   "name": "python3"
  },
  "language_info": {
   "codemirror_mode": {
    "name": "ipython",
    "version": 3
   },
   "file_extension": ".py",
   "mimetype": "text/x-python",
   "name": "python",
   "nbconvert_exporter": "python",
   "pygments_lexer": "ipython3",
   "version": "3.9.13"
  }
 },
 "nbformat": 4,
 "nbformat_minor": 5
}
