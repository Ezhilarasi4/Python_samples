{
 "cells": [
  {
   "cell_type": "markdown",
   "id": "5fad3b2a",
   "metadata": {
    "id": "5fad3b2a"
   },
   "source": [
    "# Assessment - 2 Gradable\n",
    "\n",
    "- Each question carries 3 marks\n",
    "- Marks will be assigned in terms of:\n",
    "    \n",
    "    **1. Expected output**\n",
    "    \n",
    "    **2. Quality and Explainability of code**\n",
    "\n",
    "    ***Go back through the script and type a comment above each line explaining in English what it does.***\n",
    "\n",
    "    **3. Copied code, if found, will result in 0 marks for that question. To avoid this make as much comments in the code to explain the approach**"
   ]
  },
  {
   "cell_type": "markdown",
   "id": "03363a58",
   "metadata": {
    "id": "03363a58"
   },
   "source": [
    "### 1.\n",
    "\n",
    "Write a Python program to get a list, sorted in increasing order by the last element in each tuple from a given list of non-empty tuples.\n",
    "\n",
    "Sample List : [(2, 5), (1, 2), (4, 4), (2, 3), (2, 1)]\n",
    "Expected Result : [(2, 1), (1, 2), (2, 3), (4, 4), (2, 5)]"
   ]
  },
  {
   "cell_type": "code",
   "execution_count": 9,
   "id": "73d7418b",
   "metadata": {
    "id": "73d7418b"
   },
   "outputs": [
    {
     "name": "stdout",
     "output_type": "stream",
     "text": [
      "sorted :  [(2, 1), (1, 2), (2, 3), (4, 4), (2, 5)]\n"
     ]
    }
   ],
   "source": [
    "\n",
    "def last(n): # get the last key\n",
    "    return n[m]\n",
    "\n",
    "def sort(tuples): # function to sort the tuple\n",
    "    return sorted(tuples,key = last) # We pass used defined function last as a parameter. \n",
    "\n",
    "list_1 =  [(2, 5), (1, 2), (4, 4), (2, 3), (2, 1)] \n",
    "m=1 \n",
    "print(\"sorted : \", sort(list_1))"
   ]
  },
  {
   "cell_type": "markdown",
   "id": "3d5efe73",
   "metadata": {
    "id": "3d5efe73"
   },
   "source": [
    "### 2. \n",
    "\n",
    "Grab ``StarAgile`` from the following Dictionaries\n",
    "\n",
    "d_difficult = {'k1':[{'nest_key':['this is deep',['StarAgile']]}]}\n",
    "\n",
    "d_irritating = {'k1':[1,2,{'k2':['this is not easy',{'VeryIrriating':[1,2,['StarAgile']]}]}]}"
   ]
  },
  {
   "cell_type": "code",
   "execution_count": 73,
   "id": "b1bdb083",
   "metadata": {},
   "outputs": [
    {
     "name": "stdout",
     "output_type": "stream",
     "text": [
      "[{'nest_key': ['this is deep', ['StarAgile']]}]\n",
      "{'nest_key': ['this is deep', ['StarAgile']]}\n",
      "['this is deep', ['StarAgile']]\n",
      "['StarAgile']\n",
      "StarAgile\n"
     ]
    }
   ],
   "source": [
    "d_difficult = {'k1':[{'nest_key':['this is deep',['StarAgile']]}]}\n",
    "print(d_difficult['k1'])\n",
    "print(d_difficult['k1'][0])\n",
    "print(d_difficult['k1'][0]['nest_key'])\n",
    "print(d_difficult['k1'][0]['nest_key'][1])\n",
    "print(d_difficult['k1'][0]['nest_key'][1][0])\n",
    "\n",
    "\n"
   ]
  },
  {
   "cell_type": "code",
   "execution_count": 8,
   "id": "e928b6ef",
   "metadata": {},
   "outputs": [
    {
     "name": "stdout",
     "output_type": "stream",
     "text": [
      "StarAgile\n"
     ]
    }
   ],
   "source": [
    "\n",
    "d_irritating = {'k1':[1,2,{'k2':['this is not easy',{'VeryIrriating':[1,2,['StarAgile']]}]}]}\n",
    "print(d_irritating['k1'][2]['k2'][1]['VeryIrriating'][2][0])"
   ]
  },
  {
   "cell_type": "markdown",
   "id": "0540a188",
   "metadata": {
    "id": "0540a188"
   },
   "source": [
    "### 3.\n",
    "\n",
    "Write a program to accept a string from the user and display characters that are present at an even index number.\n",
    "\n",
    "For example, str = \"judgemental\" so you should display ‘j’, ‘d’, ‘e’, ‘e’, ‘t’, ‘l’."
   ]
  },
  {
   "cell_type": "code",
   "execution_count": 20,
   "id": "21f5b9dd",
   "metadata": {
    "id": "21f5b9dd"
   },
   "outputs": [
    {
     "name": "stdout",
     "output_type": "stream",
     "text": [
      "Enter the stringezhilarasivaishu\n",
      "z\n",
      "i\n",
      "a\n",
      "a\n",
      "i\n",
      "a\n",
      "s\n",
      "u\n"
     ]
    }
   ],
   "source": [
    "str1 = input(\"Enter the string: \") # Getting input from user\n",
    "length = len(str1)               # Finding the length of the string\n",
    "for i in range(1,length,2):      # iterating for even character of the string\n",
    "    print(str1[i])\n",
    "    \n",
    "    \n"
   ]
  },
  {
   "cell_type": "markdown",
   "id": "e0884cde",
   "metadata": {
    "id": "e0884cde"
   },
   "source": [
    "### 4. \n",
    "\n",
    "Convert the Float Value of '3.8' into Integer, Complex, Binary and Hexidecimal format"
   ]
  },
  {
   "cell_type": "code",
   "execution_count": 68,
   "id": "99555c16",
   "metadata": {
    "id": "99555c16"
   },
   "outputs": [
    {
     "name": "stdout",
     "output_type": "stream",
     "text": [
      "Integer of value 3.8 :  3\n",
      "Complex of value 3.8 :  (3.8+0j)\n",
      "Binary of value 3.8 : 0b11\n",
      "Hexadecimal of value 3.8 : 0x3\n"
     ]
    }
   ],
   "source": [
    "a = 3.8 # inputing float value\n",
    "int_a = int(a) #converting into integer\n",
    "print(\"Integer of value\",a,\": \",int_a)\n",
    "\n",
    "complex_a = complex(a)   # converting into complex\n",
    "print(\"Complex of value\",a,\": \",complex_a)\n",
    "\n",
    "bin_a = bin(int_a) # converting into binary\n",
    "print(\"Binary of value\",a,\":\",bin_a)\n",
    "\n",
    "hex_a = hex(int_a)   # converting into hexadecimal\n",
    "print(\"Hexadecimal of value\",a ,\":\",hex_a)"
   ]
  },
  {
   "cell_type": "markdown",
   "id": "25187f2c",
   "metadata": {
    "id": "25187f2c"
   },
   "source": [
    "### 5. \n",
    "\n",
    "Write a program to accept five names from the user and store it in a Tuple 'T1'"
   ]
  },
  {
   "cell_type": "code",
   "execution_count": 10,
   "id": "90ddf8dd",
   "metadata": {},
   "outputs": [
    {
     "name": "stdout",
     "output_type": "stream",
     "text": [
      "Enter the number: 3\n",
      "Enter the name: ezhil\n",
      "Enter the name: baskar\n",
      "Enter the name: vaishu\n",
      "['ezhil', 'baskar', 'vaishu']\n",
      "('ezhil', 'baskar', 'vaishu')\n"
     ]
    }
   ],
   "source": [
    "num = int(input(\"Enter the number: \")) #getting input from user\n",
    "lst=[]\n",
    "if num > 1: \n",
    "    for i in range(1,num+1): #iterating till user defined num times\n",
    "        name = input(\"Enter the name: \")\n",
    "        lst.append(name)  # adding to the list\n",
    "print(lst)\n",
    "T1 = tuple(lst) #type conversion to tuple\n",
    "print(T1)\n",
    "          "
   ]
  }
 ],
 "metadata": {
  "colab": {
   "provenance": []
  },
  "kernelspec": {
   "display_name": "Python 3 (ipykernel)",
   "language": "python",
   "name": "python3"
  },
  "language_info": {
   "codemirror_mode": {
    "name": "ipython",
    "version": 3
   },
   "file_extension": ".py",
   "mimetype": "text/x-python",
   "name": "python",
   "nbconvert_exporter": "python",
   "pygments_lexer": "ipython3",
   "version": "3.9.13"
  }
 },
 "nbformat": 4,
 "nbformat_minor": 5
}
